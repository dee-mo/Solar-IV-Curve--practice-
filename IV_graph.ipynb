##Trial 1: Solar IV curve graph 

#Description:
#The following resistance & voltage values were recorded from actual observations.
#Slight cloud coverage during observing hours of (12-2:30pm :: 2/5/2014)

#Trial 2:(Next day of 0% cloud coverage)

#Contributors: Nick Ellis, Daniel Soto, Dustin De Matteo


%pylab inline

#(R)esistor values were recorded to assist in current calculations.
resistance = array([1.06, 2.05, 5.17, 9.94, 
                    20.11, 46.24,99.7,201.6,
                    506, 992, 1984, 4997, 9946,
                    11847, 49700, 999999999]) 

#(V)oltage values from IV solar panel were logged.
voltage = array([0.013 ,0.025, 0.065, 0.124,
                 0.246, 0.505, 0.945, 1.82,
                 3.9, 5.05, 7.17, 7.99, 8.31,
                 8.5, 8.64, 8.7])

# Here is where we determine the (C)urrent values as shown
current = voltage / resistance

current

plot(voltage, current)
xlabel('Voltage (V)')
ylabel('Current (A)')
